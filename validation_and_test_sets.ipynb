{
  "cells": [
    {
      "cell_type": "code",
      "execution_count": 4,
      "metadata": {
        "cellView": "form",
        "colab": {},
        "colab_type": "code",
        "id": "hMqWDc_m6rUC"
      },
      "outputs": [],
      "source": [
        "#@title Copyright 2020 Google LLC. Double-click here for license information.\n",
        "# Licensed under the Apache License, Version 2.0 (the \"License\");\n",
        "# you may not use this file except in compliance with the License.\n",
        "# You may obtain a copy of the License at\n",
        "#\n",
        "# https://www.apache.org/licenses/LICENSE-2.0\n",
        "#\n",
        "# Unless required by applicable law or agreed to in writing, software\n",
        "# distributed under the License is distributed on an \"AS IS\" BASIS,\n",
        "# WITHOUT WARRANTIES OR CONDITIONS OF ANY KIND, either express or implied.\n",
        "# See the License for the specific language governing permissions and\n",
        "# limitations under the License."
      ]
    },
    {
      "cell_type": "markdown",
      "metadata": {
        "colab_type": "text",
        "id": "4f3CKqFUqL2-"
      },
      "source": [
        "# Validation Sets and Test Sets\n",
        "\n",
        "The previous Colab exercises evaluated the trained model against the training set, which does not provide a strong signal about the quality of your model. In this Colab, you'll experiment with validation sets and test sets.\n",
        "\n",
        "\n",
        "\n",
        "\n"
      ]
    },
    {
      "cell_type": "markdown",
      "metadata": {
        "colab_type": "text",
        "id": "3spZH_kNkWWX"
      },
      "source": [
        "## Learning objectives\n",
        "\n",
        "After doing this Colab, you'll know how to do the following:\n",
        "\n",
        "  * Split a [training set](https://developers.google.com/machine-learning/glossary/#training_set) into a smaller training set and a [validation set](https://developers.google.com/machine-learning/glossary/#validation_set).\n",
        "  * Analyze deltas between training set and validation set results.\n",
        "  * Test the trained model with a [test set](https://developers.google.com/machine-learning/glossary/#test_set) to determine whether your trained model is [overfitting](https://developers.google.com/machine-learning/glossary/#overfitting).\n",
        "  * Detect and fix a common training problem."
      ]
    },
    {
      "cell_type": "markdown",
      "metadata": {
        "colab_type": "text",
        "id": "gV82DJO3kWpk"
      },
      "source": [
        "## The dataset\n",
        "\n",
        "As in the previous exercise, this exercise uses the [California Housing dataset](https://developers.google.com/machine-learning/crash-course/california-housing-data-description) to predict the `median_house_value` at the city block level.  Like many \"famous\" datasets, the California Housing Dataset actually consists of two separate datasets, each living in separate .csv files:\n",
        "\n",
        "* The training set is in `california_housing_train.csv`.\n",
        "* The test set is in `california_housing_test.csv`.\n",
        "\n",
        "You'll create the validation set by dividing the downloaded training set into two parts:\n",
        "\n",
        "* a smaller training set  \n",
        "* a validation set"
      ]
    },
    {
      "cell_type": "markdown",
      "metadata": {
        "colab_type": "text",
        "id": "u84mXopntPFZ"
      },
      "source": [
        "## Use the right version of TensorFlow\n",
        "\n",
        "The following hidden code cell ensures that the Colab will run on TensorFlow 2.X."
      ]
    },
    {
      "cell_type": "code",
      "execution_count": 5,
      "metadata": {
        "cellView": "form",
        "colab": {},
        "colab_type": "code",
        "id": "FBhNIdUatOU6"
      },
      "outputs": [
        {
          "name": "stderr",
          "output_type": "stream",
          "text": [
            "UsageError: Line magic function `%tensorflow_version` not found.\n"
          ]
        }
      ],
      "source": [
        "#@title Run on TensorFlow 2.x\n",
        "%tensorflow_version 2.x"
      ]
    },
    {
      "cell_type": "markdown",
      "metadata": {
        "colab_type": "text",
        "id": "S8gm6BpqRRuh"
      },
      "source": [
        "## Import relevant modules\n",
        "\n",
        "As before, this first code cell imports the necessary modules and sets a few display options."
      ]
    },
    {
      "cell_type": "code",
      "execution_count": 3,
      "metadata": {
        "cellView": "form",
        "colab": {},
        "colab_type": "code",
        "id": "9D8GgUovHbG0"
      },
      "outputs": [],
      "source": [
        "#@title Import modules\n",
        "import numpy as np\n",
        "import pandas as pd\n",
        "import tensorflow as tf\n",
        "from matplotlib import pyplot as plt\n",
        "\n",
        "pd.options.display.max_rows = 10\n",
        "pd.options.display.float_format = \"{:.1f}\".format"
      ]
    },
    {
      "cell_type": "markdown",
      "metadata": {
        "colab_type": "text",
        "id": "xjvrrClQeAJu"
      },
      "source": [
        "## Load the datasets from the internet\n",
        "\n",
        "The following code cell loads the separate .csv files and creates the following two pandas DataFrames:\n",
        "\n",
        "* `train_df`, which contains the training set.\n",
        "* `test_df`, which contains the test set.\n",
        "\n"
      ]
    },
    {
      "cell_type": "code",
      "execution_count": 4,
      "metadata": {
        "colab": {},
        "colab_type": "code",
        "id": "zUnTc_wfd_o3"
      },
      "outputs": [],
      "source": [
        "train_df = pd.read_csv(\"https://download.mlcc.google.com/mledu-datasets/california_housing_train.csv\")\n",
        "test_df = pd.read_csv(\"https://download.mlcc.google.com/mledu-datasets/california_housing_test.csv\")"
      ]
    },
    {
      "cell_type": "markdown",
      "metadata": {
        "colab_type": "text",
        "id": "P_KBdj2M_yjM"
      },
      "source": [
        "## Scale the label values\n",
        "\n",
        "The following code cell scales the `median_house_value`. \n",
        "See the previous Colab exercise for details."
      ]
    },
    {
      "cell_type": "code",
      "execution_count": 5,
      "metadata": {
        "colab": {},
        "colab_type": "code",
        "id": "3hc7QQhaAFXD"
      },
      "outputs": [],
      "source": [
        "scale_factor = 1000.0\n",
        "\n",
        "# Scale the training set's label.\n",
        "train_df[\"median_house_value\"] /= scale_factor \n",
        "\n",
        "# Scale the test set's label\n",
        "test_df[\"median_house_value\"] /= scale_factor"
      ]
    },
    {
      "cell_type": "markdown",
      "metadata": {
        "colab_type": "text",
        "id": "FhessIIV8VPc"
      },
      "source": [
        "## Load the functions that build and train a model\n",
        "\n",
        "The following code cell defines two functions:\n",
        "\n",
        "  * `build_model`, which defines the model's topography.\n",
        "  * `train_model`, which will ultimately train the model, outputting not only the loss value for the training set but also the loss value for the validation set. \n",
        "\n",
        "Since you don't need to understand model building code right now, we've hidden this code cell. As always, you must run hidden code cells."
      ]
    },
    {
      "cell_type": "code",
      "execution_count": 6,
      "metadata": {
        "cellView": "form",
        "colab": {},
        "colab_type": "code",
        "id": "bvonhK857msj"
      },
      "outputs": [
        {
          "name": "stdout",
          "output_type": "stream",
          "text": [
            "Defined the build_model and train_model functions.\n"
          ]
        }
      ],
      "source": [
        "#@title Define the functions that build and train a model\n",
        "def build_model(my_learning_rate):\n",
        "  \"\"\"Create and compile a simple linear regression model.\"\"\"\n",
        "  # Most simple tf.keras models are sequential.\n",
        "  model = tf.keras.models.Sequential()\n",
        "\n",
        "  # Add one linear layer to the model to yield a simple linear regressor.\n",
        "  model.add(tf.keras.layers.Dense(units=1, input_shape=(1,)))\n",
        "\n",
        "  # Compile the model topography into code that TensorFlow can efficiently\n",
        "  # execute. Configure training to minimize the model's mean squared error. \n",
        "  model.compile(optimizer=tf.keras.optimizers.RMSprop(lr=my_learning_rate),\n",
        "                loss=\"mean_squared_error\",\n",
        "                metrics=[tf.keras.metrics.RootMeanSquaredError()])\n",
        "\n",
        "  return model               \n",
        "\n",
        "\n",
        "def train_model(model, df, feature, label, my_epochs, \n",
        "                my_batch_size=None, my_validation_split=0.1):\n",
        "  \"\"\"Feed a dataset into the model in order to train it.\"\"\"\n",
        "\n",
        "  history = model.fit(x=df[feature],\n",
        "                      y=df[label],\n",
        "                      batch_size=my_batch_size,\n",
        "                      epochs=my_epochs,\n",
        "                      validation_split=my_validation_split)\n",
        "\n",
        "  # Gather the model's trained weight and bias.\n",
        "  trained_weight = model.get_weights()[0]\n",
        "  trained_bias = model.get_weights()[1]\n",
        "\n",
        "  # The list of epochs is stored separately from the \n",
        "  # rest of history.\n",
        "  epochs = history.epoch\n",
        "  \n",
        "  # Isolate the root mean squared error for each epoch.\n",
        "  hist = pd.DataFrame(history.history)\n",
        "  rmse = hist[\"root_mean_squared_error\"]\n",
        "\n",
        "  return epochs, rmse, history.history   \n",
        "\n",
        "print(\"Defined the build_model and train_model functions.\")"
      ]
    },
    {
      "cell_type": "markdown",
      "metadata": {
        "colab_type": "text",
        "id": "8gRu4Ri0D8tH"
      },
      "source": [
        "## Define plotting functions\n",
        "\n",
        "The `plot_the_loss_curve` function plots loss vs. epochs for both the training set and the validation set."
      ]
    },
    {
      "cell_type": "code",
      "execution_count": 7,
      "metadata": {
        "cellView": "form",
        "colab": {},
        "colab_type": "code",
        "id": "QA7hsqPZDvVM"
      },
      "outputs": [
        {
          "name": "stdout",
          "output_type": "stream",
          "text": [
            "Defined the plot_the_loss_curve function.\n"
          ]
        }
      ],
      "source": [
        "#@title Define the plotting function\n",
        "\n",
        "def plot_the_loss_curve(epochs, mae_training, mae_validation):\n",
        "  \"\"\"Plot a curve of loss vs. epoch.\"\"\"\n",
        "\n",
        "  plt.figure()\n",
        "  plt.xlabel(\"Epoch\")\n",
        "  plt.ylabel(\"Root Mean Squared Error\")\n",
        "\n",
        "  plt.plot(epochs[1:], mae_training[1:], label=\"Training Loss\")\n",
        "  plt.plot(epochs[1:], mae_validation[1:], label=\"Validation Loss\")\n",
        "  plt.legend()\n",
        "  \n",
        "  # We're not going to plot the first epoch, since the loss on the first epoch\n",
        "  # is often substantially greater than the loss for other epochs.\n",
        "  merged_mae_lists = mae_training[1:] + mae_validation[1:]\n",
        "  highest_loss = max(merged_mae_lists)\n",
        "  lowest_loss = min(merged_mae_lists)\n",
        "  delta = highest_loss - lowest_loss\n",
        "  print(delta)\n",
        "\n",
        "  top_of_y_axis = highest_loss + (delta * 0.05)\n",
        "  bottom_of_y_axis = lowest_loss - (delta * 0.05)\n",
        "   \n",
        "  plt.ylim([bottom_of_y_axis, top_of_y_axis])\n",
        "  plt.show()  \n",
        "\n",
        "print(\"Defined the plot_the_loss_curve function.\")"
      ]
    },
    {
      "cell_type": "markdown",
      "metadata": {
        "colab_type": "text",
        "id": "jipBqEQXlsN8"
      },
      "source": [
        "## Task 1: Experiment with the validation split\n",
        "\n",
        "In the following code cell, you'll see a variable named `validation_split`, which we've initialized at 0.2.  The `validation_split` variable specifies the proportion of the original training set that will serve as the validation set. The original training set contains 17,000 examples. Therefore, a `validation_split` of 0.2 means that:\n",
        "\n",
        "* 17,000 * 0.2 ~= 3,400 examples will become the validation set.\n",
        "* 17,000 * 0.8 ~= 13,600 examples will become the new training set.\n",
        "\n",
        "The following code builds a model, trains it on the training set, and evaluates the built model on both:\n",
        "\n",
        "* The training set.\n",
        "* And the validation set.\n",
        "\n",
        "If the data in the training set is similar to the data in the validation set, then the two loss curves and the final loss values should be almost identical. However, the loss curves and final loss values are **not** almost identical. Hmm, that's odd.  \n",
        "\n",
        "Experiment with two or three different values of `validation_split`.  Do different values of `validation_split` fix the problem? \n"
      ]
    },
    {
      "cell_type": "code",
      "execution_count": 16,
      "metadata": {
        "colab": {},
        "colab_type": "code",
        "id": "knP23Taoa00a"
      },
      "outputs": [
        {
          "name": "stdout",
          "output_type": "stream",
          "text": [
            "Epoch 1/30\n",
            "102/102 [==============================] - 1s 7ms/step - loss: 47124.3359 - root_mean_squared_error: 217.0814 - val_loss: 38075.3711 - val_root_mean_squared_error: 195.1291\n",
            "Epoch 2/30\n",
            "102/102 [==============================] - 1s 13ms/step - loss: 32072.4961 - root_mean_squared_error: 179.0880 - val_loss: 25120.8203 - val_root_mean_squared_error: 158.4955\n",
            "Epoch 3/30\n",
            "102/102 [==============================] - 1s 7ms/step - loss: 20768.7012 - root_mean_squared_error: 144.1135 - val_loss: 15738.7305 - val_root_mean_squared_error: 125.4541\n",
            "Epoch 4/30\n",
            "102/102 [==============================] - 1s 7ms/step - loss: 12935.5918 - root_mean_squared_error: 113.7347 - val_loss: 9760.0898 - val_root_mean_squared_error: 98.7932\n",
            "Epoch 5/30\n",
            "102/102 [==============================] - 1s 7ms/step - loss: 8572.4795 - root_mean_squared_error: 92.5877 - val_loss: 7105.7568 - val_root_mean_squared_error: 84.2957\n",
            "Epoch 6/30\n",
            "102/102 [==============================] - 0s 5ms/step - loss: 7212.9932 - root_mean_squared_error: 84.9293 - val_loss: 6797.2070 - val_root_mean_squared_error: 82.4452\n",
            "Epoch 7/30\n",
            "102/102 [==============================] - 1s 5ms/step - loss: 7157.8877 - root_mean_squared_error: 84.6043 - val_loss: 6801.4312 - val_root_mean_squared_error: 82.4708\n",
            "Epoch 8/30\n",
            "102/102 [==============================] - 0s 5ms/step - loss: 7155.0269 - root_mean_squared_error: 84.5874 - val_loss: 6807.0166 - val_root_mean_squared_error: 82.5046\n",
            "Epoch 9/30\n",
            "102/102 [==============================] - 0s 4ms/step - loss: 7152.8643 - root_mean_squared_error: 84.5746 - val_loss: 6809.3511 - val_root_mean_squared_error: 82.5188\n",
            "Epoch 10/30\n",
            "102/102 [==============================] - 1s 8ms/step - loss: 7150.0269 - root_mean_squared_error: 84.5578 - val_loss: 6815.4453 - val_root_mean_squared_error: 82.5557\n",
            "Epoch 11/30\n",
            "102/102 [==============================] - 0s 4ms/step - loss: 7150.0815 - root_mean_squared_error: 84.5582 - val_loss: 6816.4980 - val_root_mean_squared_error: 82.5621\n",
            "Epoch 12/30\n",
            "102/102 [==============================] - 0s 4ms/step - loss: 7148.7100 - root_mean_squared_error: 84.5500 - val_loss: 6821.8071 - val_root_mean_squared_error: 82.5942\n",
            "Epoch 13/30\n",
            "102/102 [==============================] - 0s 4ms/step - loss: 7148.7397 - root_mean_squared_error: 84.5502 - val_loss: 6821.9272 - val_root_mean_squared_error: 82.5950\n",
            "Epoch 14/30\n",
            "102/102 [==============================] - 0s 4ms/step - loss: 7147.1514 - root_mean_squared_error: 84.5408 - val_loss: 6824.0479 - val_root_mean_squared_error: 82.6078\n",
            "Epoch 15/30\n",
            "102/102 [==============================] - 1s 9ms/step - loss: 7147.7300 - root_mean_squared_error: 84.5443 - val_loss: 6826.9424 - val_root_mean_squared_error: 82.6253\n",
            "Epoch 16/30\n",
            "102/102 [==============================] - 1s 8ms/step - loss: 7148.1177 - root_mean_squared_error: 84.5465 - val_loss: 6827.9521 - val_root_mean_squared_error: 82.6314\n",
            "Epoch 17/30\n",
            "102/102 [==============================] - 1s 6ms/step - loss: 7145.7930 - root_mean_squared_error: 84.5328 - val_loss: 6828.8086 - val_root_mean_squared_error: 82.6366\n",
            "Epoch 18/30\n",
            "102/102 [==============================] - 1s 9ms/step - loss: 7147.2690 - root_mean_squared_error: 84.5415 - val_loss: 6831.8213 - val_root_mean_squared_error: 82.6548\n",
            "Epoch 19/30\n",
            "102/102 [==============================] - 1s 9ms/step - loss: 7147.5073 - root_mean_squared_error: 84.5429 - val_loss: 6832.5767 - val_root_mean_squared_error: 82.6594\n",
            "Epoch 20/30\n",
            "102/102 [==============================] - 1s 7ms/step - loss: 7146.5498 - root_mean_squared_error: 84.5373 - val_loss: 6833.9365 - val_root_mean_squared_error: 82.6676\n",
            "Epoch 21/30\n",
            "102/102 [==============================] - 1s 6ms/step - loss: 7146.9365 - root_mean_squared_error: 84.5396 - val_loss: 6833.4775 - val_root_mean_squared_error: 82.6648\n",
            "Epoch 22/30\n",
            "102/102 [==============================] - 1s 7ms/step - loss: 7146.3945 - root_mean_squared_error: 84.5364 - val_loss: 6833.6807 - val_root_mean_squared_error: 82.6661\n",
            "Epoch 23/30\n",
            "102/102 [==============================] - 1s 8ms/step - loss: 7146.4966 - root_mean_squared_error: 84.5370 - val_loss: 6834.2666 - val_root_mean_squared_error: 82.6696\n",
            "Epoch 24/30\n",
            "102/102 [==============================] - 0s 4ms/step - loss: 7145.5796 - root_mean_squared_error: 84.5315 - val_loss: 6838.4106 - val_root_mean_squared_error: 82.6947\n",
            "Epoch 25/30\n",
            "102/102 [==============================] - 1s 8ms/step - loss: 7146.1865 - root_mean_squared_error: 84.5351 - val_loss: 6836.2847 - val_root_mean_squared_error: 82.6818\n",
            "Epoch 26/30\n",
            "102/102 [==============================] - 1s 5ms/step - loss: 7145.6763 - root_mean_squared_error: 84.5321 - val_loss: 6840.0317 - val_root_mean_squared_error: 82.7045\n",
            "Epoch 27/30\n",
            "102/102 [==============================] - 1s 8ms/step - loss: 7143.3921 - root_mean_squared_error: 84.5186 - val_loss: 6841.6084 - val_root_mean_squared_error: 82.7140\n",
            "Epoch 28/30\n",
            "102/102 [==============================] - 1s 7ms/step - loss: 7140.6831 - root_mean_squared_error: 84.5026 - val_loss: 6842.2612 - val_root_mean_squared_error: 82.7180\n",
            "Epoch 29/30\n",
            "102/102 [==============================] - 0s 4ms/step - loss: 7146.2676 - root_mean_squared_error: 84.5356 - val_loss: 6839.5122 - val_root_mean_squared_error: 82.7013\n",
            "Epoch 30/30\n",
            "102/102 [==============================] - 1s 6ms/step - loss: 7142.7700 - root_mean_squared_error: 84.5149 - val_loss: 6845.7554 - val_root_mean_squared_error: 82.7391\n",
            "96.64277648925781\n"
          ]
        },
        {
          "data": {
            "image/png": "[encoded data removed]",
            "text/plain": [
              "<Figure size 432x288 with 1 Axes>"
            ]
          },
          "metadata": {},
          "output_type": "display_data"
        }
      ],
      "source": [
        "# The following variables are the hyperparameters.\n",
        "learning_rate = 0.08\n",
        "epochs = 30\n",
        "batch_size = 100\n",
        "\n",
        "# Split the original training set into a reduced training set and a\n",
        "# validation set. \n",
        "validation_split=0.4\n",
        "\n",
        "# Identify the feature and the label.\n",
        "my_feature=\"median_income\"  # the median income on a specific city block.\n",
        "my_label=\"median_house_value\" # the median value of a house on a specific city block.\n",
        "# That is, you're going to create a model that predicts house value based \n",
        "# solely on the neighborhood's median income.  \n",
        "\n",
        "# Discard any pre-existing version of the model.\n",
        "my_model = None\n",
        "\n",
        "# Invoke the functions to build and train the model.\n",
        "my_model = build_model(learning_rate)\n",
        "epochs, rmse, history = train_model(my_model, train_df, my_feature, \n",
        "                                    my_label, epochs, batch_size, \n",
        "                                    validation_split)\n",
        "\n",
        "plot_the_loss_curve(epochs, history[\"root_mean_squared_error\"], \n",
        "                    history[\"val_root_mean_squared_error\"])"
      ]
    },
    {
      "cell_type": "markdown",
      "metadata": {
        "colab_type": "text",
        "id": "TKa11JK4Pm3f"
      },
      "source": [
        "## Task 2: Determine **why** the loss curves differ\n",
        "\n",
        "No matter how you split the training set and the validation set, the loss curves differ significantly. Evidently, the data in the training set isn't similar enough to the data in the validation set. Counterintuitive? Yes, but this problem is actually pretty common in machine learning. \n",
        "\n",
        "Your task is to determine **why** the loss curves aren't highly similar. As with most issues in machine learning, the problem is rooted in the data itself. To solve this mystery of why the training set and validation set aren't almost identical, write a line or two of [pandas code](https://colab.research.google.com/drive/1gUeYFsYmoyqpQJWq7krrZZNUFvBPwrJf) in the following code cell.  Here are a couple of hints:\n",
        "\n",
        "  * The previous code cell split the original training set into:\n",
        "    * a reduced training set (the original training set - the validation set)\n",
        "    * the validation set \n",
        "  * By default, the pandas [`head`](https://pandas.pydata.org/pandas-docs/stable/reference/api/pandas.DataFrame.head.html) method outputs the *first* 5 rows of the DataFrame. To see more of the training set, specify the `n` argument to `head` and assign a large positive integer to `n`."
      ]
    },
    {
      "cell_type": "code",
      "execution_count": 21,
      "metadata": {
        "colab": {},
        "colab_type": "code",
        "id": "VJQcAZkwJt_p"
      },
      "outputs": [
        {
          "data": {
            "text/html": [
              "<div>\n",
              "<style scoped>\n",
              "    .dataframe tbody tr th:only-of-type {\n",
              "        vertical-align: middle;\n",
              "    }\n",
              "\n",
              "    .dataframe tbody tr th {\n",
              "        vertical-align: top;\n",
              "    }\n",
              "\n",
              "    .dataframe thead th {\n",
              "        text-align: right;\n",
              "    }\n",
              "</style>\n",
              "<table border=\"1\" class=\"dataframe\">\n",
              "  <thead>\n",
              "    <tr style=\"text-align: right;\">\n",
              "      <th></th>\n",
              "      <th>longitude</th>\n",
              "      <th>latitude</th>\n",
              "      <th>housing_median_age</th>\n",
              "      <th>total_rooms</th>\n",
              "      <th>total_bedrooms</th>\n",
              "      <th>population</th>\n",
              "      <th>households</th>\n",
              "      <th>median_income</th>\n",
              "      <th>median_house_value</th>\n",
              "    </tr>\n",
              "  </thead>\n",
              "  <tbody>\n",
              "    <tr>\n",
              "      <th>0</th>\n",
              "      <td>-114.3</td>\n",
              "      <td>34.2</td>\n",
              "      <td>15.0</td>\n",
              "      <td>5612.0</td>\n",
              "      <td>1283.0</td>\n",
              "      <td>1015.0</td>\n",
              "      <td>472.0</td>\n",
              "      <td>1.5</td>\n",
              "      <td>66.9</td>\n",
              "    </tr>\n",
              "    <tr>\n",
              "      <th>1</th>\n",
              "      <td>-114.5</td>\n",
              "      <td>34.4</td>\n",
              "      <td>19.0</td>\n",
              "      <td>7650.0</td>\n",
              "      <td>1901.0</td>\n",
              "      <td>1129.0</td>\n",
              "      <td>463.0</td>\n",
              "      <td>1.8</td>\n",
              "      <td>80.1</td>\n",
              "    </tr>\n",
              "    <tr>\n",
              "      <th>2</th>\n",
              "      <td>-114.6</td>\n",
              "      <td>33.7</td>\n",
              "      <td>17.0</td>\n",
              "      <td>720.0</td>\n",
              "      <td>174.0</td>\n",
              "      <td>333.0</td>\n",
              "      <td>117.0</td>\n",
              "      <td>1.7</td>\n",
              "      <td>85.7</td>\n",
              "    </tr>\n",
              "    <tr>\n",
              "      <th>3</th>\n",
              "      <td>-114.6</td>\n",
              "      <td>33.6</td>\n",
              "      <td>14.0</td>\n",
              "      <td>1501.0</td>\n",
              "      <td>337.0</td>\n",
              "      <td>515.0</td>\n",
              "      <td>226.0</td>\n",
              "      <td>3.2</td>\n",
              "      <td>73.4</td>\n",
              "    </tr>\n",
              "    <tr>\n",
              "      <th>4</th>\n",
              "      <td>-114.6</td>\n",
              "      <td>33.6</td>\n",
              "      <td>20.0</td>\n",
              "      <td>1454.0</td>\n",
              "      <td>326.0</td>\n",
              "      <td>624.0</td>\n",
              "      <td>262.0</td>\n",
              "      <td>1.9</td>\n",
              "      <td>65.5</td>\n",
              "    </tr>\n",
              "    <tr>\n",
              "      <th>...</th>\n",
              "      <td>...</td>\n",
              "      <td>...</td>\n",
              "      <td>...</td>\n",
              "      <td>...</td>\n",
              "      <td>...</td>\n",
              "      <td>...</td>\n",
              "      <td>...</td>\n",
              "      <td>...</td>\n",
              "      <td>...</td>\n",
              "    </tr>\n",
              "    <tr>\n",
              "      <th>995</th>\n",
              "      <td>-117.1</td>\n",
              "      <td>32.5</td>\n",
              "      <td>8.0</td>\n",
              "      <td>6533.0</td>\n",
              "      <td>1217.0</td>\n",
              "      <td>4797.0</td>\n",
              "      <td>1177.0</td>\n",
              "      <td>4.0</td>\n",
              "      <td>144.4</td>\n",
              "    </tr>\n",
              "    <tr>\n",
              "      <th>996</th>\n",
              "      <td>-117.1</td>\n",
              "      <td>34.6</td>\n",
              "      <td>6.0</td>\n",
              "      <td>5110.0</td>\n",
              "      <td>1044.0</td>\n",
              "      <td>1938.0</td>\n",
              "      <td>724.0</td>\n",
              "      <td>3.2</td>\n",
              "      <td>112.8</td>\n",
              "    </tr>\n",
              "    <tr>\n",
              "      <th>997</th>\n",
              "      <td>-117.1</td>\n",
              "      <td>34.2</td>\n",
              "      <td>22.0</td>\n",
              "      <td>4397.0</td>\n",
              "      <td>931.0</td>\n",
              "      <td>1145.0</td>\n",
              "      <td>445.0</td>\n",
              "      <td>4.5</td>\n",
              "      <td>108.4</td>\n",
              "    </tr>\n",
              "    <tr>\n",
              "      <th>998</th>\n",
              "      <td>-117.1</td>\n",
              "      <td>34.0</td>\n",
              "      <td>24.0</td>\n",
              "      <td>4144.0</td>\n",
              "      <td>826.0</td>\n",
              "      <td>2127.0</td>\n",
              "      <td>772.0</td>\n",
              "      <td>2.5</td>\n",
              "      <td>96.0</td>\n",
              "    </tr>\n",
              "    <tr>\n",
              "      <th>999</th>\n",
              "      <td>-117.1</td>\n",
              "      <td>33.6</td>\n",
              "      <td>6.0</td>\n",
              "      <td>1868.0</td>\n",
              "      <td>289.0</td>\n",
              "      <td>750.0</td>\n",
              "      <td>247.0</td>\n",
              "      <td>4.4</td>\n",
              "      <td>307.6</td>\n",
              "    </tr>\n",
              "  </tbody>\n",
              "</table>\n",
              "<p>1000 rows × 9 columns</p>\n",
              "</div>"
            ],
            "text/plain": [
              "     longitude  latitude  housing_median_age  total_rooms  total_bedrooms  \\\n",
              "0       -114.3      34.2                15.0       5612.0          1283.0   \n",
              "1       -114.5      34.4                19.0       7650.0          1901.0   \n",
              "2       -114.6      33.7                17.0        720.0           174.0   \n",
              "3       -114.6      33.6                14.0       1501.0           337.0   \n",
              "4       -114.6      33.6                20.0       1454.0           326.0   \n",
              "..         ...       ...                 ...          ...             ...   \n",
              "995     -117.1      32.5                 8.0       6533.0          1217.0   \n",
              "996     -117.1      34.6                 6.0       5110.0          1044.0   \n",
              "997     -117.1      34.2                22.0       4397.0           931.0   \n",
              "998     -117.1      34.0                24.0       4144.0           826.0   \n",
              "999     -117.1      33.6                 6.0       1868.0           289.0   \n",
              "\n",
              "     population  households  median_income  median_house_value  \n",
              "0        1015.0       472.0            1.5                66.9  \n",
              "1        1129.0       463.0            1.8                80.1  \n",
              "2         333.0       117.0            1.7                85.7  \n",
              "3         515.0       226.0            3.2                73.4  \n",
              "4         624.0       262.0            1.9                65.5  \n",
              "..          ...         ...            ...                 ...  \n",
              "995      4797.0      1177.0            4.0               144.4  \n",
              "996      1938.0       724.0            3.2               112.8  \n",
              "997      1145.0       445.0            4.5               108.4  \n",
              "998      2127.0       772.0            2.5                96.0  \n",
              "999       750.0       247.0            4.4               307.6  \n",
              "\n",
              "[1000 rows x 9 columns]"
            ]
          },
          "execution_count": 21,
          "metadata": {},
          "output_type": "execute_result"
        }
      ],
      "source": [
        "# Write some code in this code cell.\n",
        "train_df.head(1000)"
      ]
    },
    {
      "cell_type": "code",
      "execution_count": null,
      "metadata": {
        "cellView": "form",
        "colab": {},
        "colab_type": "code",
        "id": "EnNvkFwwK8WY"
      },
      "outputs": [],
      "source": [
        "#@title Double-click for a possible solution to Task 2.\n",
        "\n",
        "# Examine examples 0 through 4 and examples 25 through 29\n",
        "# of the training set\n",
        "train_df.head(n=1000)\n",
        "\n",
        "# The original training set is sorted by longitude. \n",
        "# Apparently, longitude influences the relationship of\n",
        "# total_rooms to median_house_value."
      ]
    },
    {
      "cell_type": "markdown",
      "metadata": {
        "colab_type": "text",
        "id": "rw4xI1ZEckI8"
      },
      "source": [
        "## Task 3. Fix the problem\n",
        "\n",
        "To fix the problem, shuffle the examples in the training set before splitting the examples into a training set and validation set. To do so, take the following steps:\n",
        "\n",
        "1. Shuffle the data in the training set by adding the following line anywhere before you call `train_model` (in the code cell associated with Task 1):\n",
        "\n",
        "```\n",
        "  shuffled_train_df = train_df.reindex(np.random.permutation(train_df.index))\n",
        "```                                    \n",
        "\n",
        "2. Pass `shuffled_train_df` (instead of `train_df`) as the second argument to `train_model` (in the code call associated with Task 1) so that the call becomes as follows:\n",
        "\n",
        "```\n",
        "  epochs, rmse, history = train_model(my_model, shuffled_train_df, my_feature, \n",
        "                                      my_label, epochs, batch_size, \n",
        "                                      validation_split)\n",
        "```"
      ]
    },
    {
      "cell_type": "code",
      "execution_count": 26,
      "metadata": {
        "cellView": "form",
        "colab": {},
        "colab_type": "code",
        "id": "ncODhpv0h-LG"
      },
      "outputs": [
        {
          "name": "stderr",
          "output_type": "stream",
          "text": [
            "/Users/zion/ML_crash_course/venv/lib/python3.9/site-packages/keras/optimizer_v2/rmsprop.py:130: UserWarning: The `lr` argument is deprecated, use `learning_rate` instead.\n",
            "  super(RMSprop, self).__init__(name, **kwargs)\n"
          ]
        },
        {
          "name": "stdout",
          "output_type": "stream",
          "text": [
            "Epoch 1/70\n",
            "153/153 [==============================] - 3s 12ms/step - loss: 42955.2539 - root_mean_squared_error: 207.2565 - val_loss: 31702.5840 - val_root_mean_squared_error: 178.0522\n",
            "Epoch 2/70\n",
            "153/153 [==============================] - 2s 11ms/step - loss: 23287.9004 - root_mean_squared_error: 152.6037 - val_loss: 16222.0176 - val_root_mean_squared_error: 127.3657\n",
            "Epoch 3/70\n",
            "153/153 [==============================] - 2s 10ms/step - loss: 11552.1484 - root_mean_squared_error: 107.4809 - val_loss: 8466.5742 - val_root_mean_squared_error: 92.0140\n",
            "Epoch 4/70\n",
            "153/153 [==============================] - 1s 8ms/step - loss: 7277.8979 - root_mean_squared_error: 85.3106 - val_loss: 7255.0449 - val_root_mean_squared_error: 85.1766\n",
            "Epoch 5/70\n",
            "153/153 [==============================] - 1s 7ms/step - loss: 6989.0029 - root_mean_squared_error: 83.6003 - val_loss: 7254.5278 - val_root_mean_squared_error: 85.1735\n",
            "Epoch 6/70\n",
            "153/153 [==============================] - 2s 10ms/step - loss: 6989.3008 - root_mean_squared_error: 83.6020 - val_loss: 7254.2188 - val_root_mean_squared_error: 85.1717\n",
            "Epoch 7/70\n",
            "153/153 [==============================] - 1s 4ms/step - loss: 6988.3701 - root_mean_squared_error: 83.5965 - val_loss: 7255.0957 - val_root_mean_squared_error: 85.1768\n",
            "Epoch 8/70\n",
            "153/153 [==============================] - 1s 6ms/step - loss: 6987.4585 - root_mean_squared_error: 83.5910 - val_loss: 7254.5952 - val_root_mean_squared_error: 85.1739\n",
            "Epoch 9/70\n",
            "153/153 [==============================] - 1s 7ms/step - loss: 6988.5371 - root_mean_squared_error: 83.5975 - val_loss: 7257.0142 - val_root_mean_squared_error: 85.1881\n",
            "Epoch 10/70\n",
            "153/153 [==============================] - 1s 5ms/step - loss: 6986.7207 - root_mean_squared_error: 83.5866 - val_loss: 7260.0210 - val_root_mean_squared_error: 85.2058\n",
            "Epoch 11/70\n",
            "153/153 [==============================] - 1s 4ms/step - loss: 6988.1382 - root_mean_squared_error: 83.5951 - val_loss: 7256.6055 - val_root_mean_squared_error: 85.1857\n",
            "Epoch 12/70\n",
            "153/153 [==============================] - 1s 5ms/step - loss: 6986.5093 - root_mean_squared_error: 83.5853 - val_loss: 7262.4976 - val_root_mean_squared_error: 85.2203\n",
            "Epoch 13/70\n",
            "153/153 [==============================] - 1s 4ms/step - loss: 6988.3887 - root_mean_squared_error: 83.5966 - val_loss: 7255.6787 - val_root_mean_squared_error: 85.1803\n",
            "Epoch 14/70\n",
            "153/153 [==============================] - 1s 6ms/step - loss: 6988.3989 - root_mean_squared_error: 83.5966 - val_loss: 7253.8438 - val_root_mean_squared_error: 85.1695\n",
            "Epoch 15/70\n",
            "153/153 [==============================] - 1s 5ms/step - loss: 6988.3662 - root_mean_squared_error: 83.5965 - val_loss: 7253.7305 - val_root_mean_squared_error: 85.1688\n",
            "Epoch 16/70\n",
            "153/153 [==============================] - 1s 6ms/step - loss: 6988.4004 - root_mean_squared_error: 83.5967 - val_loss: 7254.1313 - val_root_mean_squared_error: 85.1712\n",
            "Epoch 17/70\n",
            "153/153 [==============================] - 1s 4ms/step - loss: 6987.8608 - root_mean_squared_error: 83.5934 - val_loss: 7253.7705 - val_root_mean_squared_error: 85.1691\n",
            "Epoch 18/70\n",
            "153/153 [==============================] - 1s 4ms/step - loss: 6988.1665 - root_mean_squared_error: 83.5953 - val_loss: 7255.1831 - val_root_mean_squared_error: 85.1774\n",
            "Epoch 19/70\n",
            "153/153 [==============================] - 1s 5ms/step - loss: 6988.4946 - root_mean_squared_error: 83.5972 - val_loss: 7254.9736 - val_root_mean_squared_error: 85.1761\n",
            "Epoch 20/70\n",
            "153/153 [==============================] - 1s 5ms/step - loss: 6987.3184 - root_mean_squared_error: 83.5902 - val_loss: 7254.1577 - val_root_mean_squared_error: 85.1713\n",
            "Epoch 21/70\n",
            "153/153 [==============================] - 1s 5ms/step - loss: 6988.0571 - root_mean_squared_error: 83.5946 - val_loss: 7253.8657 - val_root_mean_squared_error: 85.1696\n",
            "Epoch 22/70\n",
            "153/153 [==============================] - 1s 8ms/step - loss: 6988.3589 - root_mean_squared_error: 83.5964 - val_loss: 7254.0757 - val_root_mean_squared_error: 85.1709\n",
            "Epoch 23/70\n",
            "153/153 [==============================] - 1s 6ms/step - loss: 6988.6465 - root_mean_squared_error: 83.5981 - val_loss: 7255.4482 - val_root_mean_squared_error: 85.1789\n",
            "Epoch 24/70\n",
            "153/153 [==============================] - 1s 5ms/step - loss: 6988.4595 - root_mean_squared_error: 83.5970 - val_loss: 7253.6484 - val_root_mean_squared_error: 85.1684\n",
            "Epoch 25/70\n",
            "153/153 [==============================] - 1s 6ms/step - loss: 6986.9810 - root_mean_squared_error: 83.5882 - val_loss: 7261.7661 - val_root_mean_squared_error: 85.2160\n",
            "Epoch 26/70\n",
            "153/153 [==============================] - 1s 7ms/step - loss: 6986.1909 - root_mean_squared_error: 83.5834 - val_loss: 7255.0942 - val_root_mean_squared_error: 85.1768\n",
            "Epoch 27/70\n",
            "153/153 [==============================] - 1s 5ms/step - loss: 6988.0854 - root_mean_squared_error: 83.5948 - val_loss: 7253.9961 - val_root_mean_squared_error: 85.1704\n",
            "Epoch 28/70\n",
            "153/153 [==============================] - 1s 4ms/step - loss: 6988.4873 - root_mean_squared_error: 83.5972 - val_loss: 7253.6616 - val_root_mean_squared_error: 85.1684\n",
            "Epoch 29/70\n",
            "153/153 [==============================] - 1s 5ms/step - loss: 6988.0547 - root_mean_squared_error: 83.5946 - val_loss: 7253.6401 - val_root_mean_squared_error: 85.1683\n",
            "Epoch 30/70\n",
            "153/153 [==============================] - 1s 6ms/step - loss: 6988.3174 - root_mean_squared_error: 83.5962 - val_loss: 7254.6572 - val_root_mean_squared_error: 85.1743\n",
            "Epoch 31/70\n",
            "153/153 [==============================] - 1s 6ms/step - loss: 6988.5547 - root_mean_squared_error: 83.5976 - val_loss: 7253.7212 - val_root_mean_squared_error: 85.1688\n",
            "Epoch 32/70\n",
            "153/153 [==============================] - 1s 6ms/step - loss: 6988.7593 - root_mean_squared_error: 83.5988 - val_loss: 7253.8740 - val_root_mean_squared_error: 85.1697\n",
            "Epoch 33/70\n",
            "153/153 [==============================] - 1s 5ms/step - loss: 6987.0859 - root_mean_squared_error: 83.5888 - val_loss: 7256.5220 - val_root_mean_squared_error: 85.1852\n",
            "Epoch 34/70\n",
            "153/153 [==============================] - 1s 6ms/step - loss: 6988.6514 - root_mean_squared_error: 83.5982 - val_loss: 7254.2100 - val_root_mean_squared_error: 85.1717\n",
            "Epoch 35/70\n",
            "153/153 [==============================] - 1s 5ms/step - loss: 6988.6553 - root_mean_squared_error: 83.5982 - val_loss: 7254.1992 - val_root_mean_squared_error: 85.1716\n",
            "Epoch 36/70\n",
            "153/153 [==============================] - 1s 5ms/step - loss: 6987.9214 - root_mean_squared_error: 83.5938 - val_loss: 7254.2720 - val_root_mean_squared_error: 85.1720\n",
            "Epoch 37/70\n",
            "153/153 [==============================] - 1s 7ms/step - loss: 6987.9385 - root_mean_squared_error: 83.5939 - val_loss: 7257.3774 - val_root_mean_squared_error: 85.1902\n",
            "Epoch 38/70\n",
            "153/153 [==============================] - 1s 7ms/step - loss: 6987.6426 - root_mean_squared_error: 83.5921 - val_loss: 7254.9976 - val_root_mean_squared_error: 85.1763\n",
            "Epoch 39/70\n",
            "153/153 [==============================] - 1s 6ms/step - loss: 6988.4644 - root_mean_squared_error: 83.5970 - val_loss: 7253.6943 - val_root_mean_squared_error: 85.1686\n",
            "Epoch 40/70\n",
            "153/153 [==============================] - 1s 7ms/step - loss: 6987.8154 - root_mean_squared_error: 83.5932 - val_loss: 7257.5312 - val_root_mean_squared_error: 85.1911\n",
            "Epoch 41/70\n",
            "153/153 [==============================] - 1s 5ms/step - loss: 6989.1895 - root_mean_squared_error: 83.6014 - val_loss: 7253.6919 - val_root_mean_squared_error: 85.1686\n",
            "Epoch 42/70\n",
            "153/153 [==============================] - 1s 6ms/step - loss: 6988.4956 - root_mean_squared_error: 83.5972 - val_loss: 7253.7417 - val_root_mean_squared_error: 85.1689\n",
            "Epoch 43/70\n",
            "153/153 [==============================] - 1s 6ms/step - loss: 6988.2578 - root_mean_squared_error: 83.5958 - val_loss: 7254.4487 - val_root_mean_squared_error: 85.1730\n",
            "Epoch 44/70\n",
            "153/153 [==============================] - 2s 10ms/step - loss: 6989.2598 - root_mean_squared_error: 83.6018 - val_loss: 7254.6953 - val_root_mean_squared_error: 85.1745\n",
            "Epoch 45/70\n",
            "153/153 [==============================] - 1s 5ms/step - loss: 6987.9277 - root_mean_squared_error: 83.5938 - val_loss: 7256.5020 - val_root_mean_squared_error: 85.1851\n",
            "Epoch 46/70\n",
            "153/153 [==============================] - 2s 10ms/step - loss: 6986.3525 - root_mean_squared_error: 83.5844 - val_loss: 7259.6519 - val_root_mean_squared_error: 85.2036\n",
            "Epoch 47/70\n",
            "153/153 [==============================] - 1s 8ms/step - loss: 6988.3970 - root_mean_squared_error: 83.5966 - val_loss: 7255.2637 - val_root_mean_squared_error: 85.1778\n",
            "Epoch 48/70\n",
            "153/153 [==============================] - 1s 6ms/step - loss: 6987.6895 - root_mean_squared_error: 83.5924 - val_loss: 7258.4966 - val_root_mean_squared_error: 85.1968\n",
            "Epoch 49/70\n",
            "153/153 [==============================] - 2s 10ms/step - loss: 6988.9893 - root_mean_squared_error: 83.6002 - val_loss: 7254.0640 - val_root_mean_squared_error: 85.17080s - loss: 6830.2256 - root_mean_squared_erro\n",
            "Epoch 50/70\n",
            "153/153 [==============================] - 1s 7ms/step - loss: 6987.8545 - root_mean_squared_error: 83.5934 - val_loss: 7253.5312 - val_root_mean_squared_error: 85.1677\n",
            "Epoch 51/70\n",
            "153/153 [==============================] - 1s 8ms/step - loss: 6987.4033 - root_mean_squared_error: 83.5907 - val_loss: 7254.9932 - val_root_mean_squared_error: 85.1762\n",
            "Epoch 52/70\n",
            "153/153 [==============================] - 1s 5ms/step - loss: 6987.9546 - root_mean_squared_error: 83.5940 - val_loss: 7253.6172 - val_root_mean_squared_error: 85.1682\n",
            "Epoch 53/70\n",
            "153/153 [==============================] - 1s 6ms/step - loss: 6987.1743 - root_mean_squared_error: 83.5893 - val_loss: 7256.4805 - val_root_mean_squared_error: 85.1850\n",
            "Epoch 54/70\n",
            "153/153 [==============================] - 1s 7ms/step - loss: 6985.6294 - root_mean_squared_error: 83.5801 - val_loss: 7264.8945 - val_root_mean_squared_error: 85.2344\n",
            "Epoch 55/70\n",
            "153/153 [==============================] - 1s 9ms/step - loss: 6988.9976 - root_mean_squared_error: 83.6002 - val_loss: 7253.5708 - val_root_mean_squared_error: 85.1679\n",
            "Epoch 56/70\n",
            "153/153 [==============================] - 2s 13ms/step - loss: 6987.5269 - root_mean_squared_error: 83.5914 - val_loss: 7258.7148 - val_root_mean_squared_error: 85.1981s - loss: 7031.0757 - root_mean_squared_erro\n",
            "Epoch 57/70\n",
            "153/153 [==============================] - 2s 13ms/step - loss: 6989.4541 - root_mean_squared_error: 83.6030 - val_loss: 7254.3184 - val_root_mean_squared_error: 85.1723\n",
            "Epoch 58/70\n",
            "153/153 [==============================] - 1s 8ms/step - loss: 6987.4492 - root_mean_squared_error: 83.5910 - val_loss: 7256.6851 - val_root_mean_squared_error: 85.1862\n",
            "Epoch 59/70\n",
            "153/153 [==============================] - 1s 10ms/step - loss: 6986.5972 - root_mean_squared_error: 83.5859 - val_loss: 7261.0063 - val_root_mean_squared_error: 85.2115\n",
            "Epoch 60/70\n",
            "153/153 [==============================] - 1s 8ms/step - loss: 6988.0322 - root_mean_squared_error: 83.5945 - val_loss: 7255.5884 - val_root_mean_squared_error: 85.1797\n",
            "Epoch 61/70\n",
            "153/153 [==============================] - 1s 9ms/step - loss: 6988.0840 - root_mean_squared_error: 83.5948 - val_loss: 7254.2441 - val_root_mean_squared_error: 85.1719\n",
            "Epoch 62/70\n",
            "153/153 [==============================] - 1s 7ms/step - loss: 6988.1616 - root_mean_squared_error: 83.5952 - val_loss: 7255.3247 - val_root_mean_squared_error: 85.1782\n",
            "Epoch 63/70\n",
            "153/153 [==============================] - 1s 6ms/step - loss: 6988.5835 - root_mean_squared_error: 83.5977 - val_loss: 7254.0566 - val_root_mean_squared_error: 85.1708\n",
            "Epoch 64/70\n",
            "153/153 [==============================] - 3s 19ms/step - loss: 6987.5820 - root_mean_squared_error: 83.5918 - val_loss: 7255.0166 - val_root_mean_squared_error: 85.1764\n",
            "Epoch 65/70\n",
            "153/153 [==============================] - 2s 14ms/step - loss: 6987.4072 - root_mean_squared_error: 83.5907 - val_loss: 7261.5142 - val_root_mean_squared_error: 85.2145\n",
            "Epoch 66/70\n",
            "153/153 [==============================] - 2s 10ms/step - loss: 6988.1260 - root_mean_squared_error: 83.5950 - val_loss: 7256.9624 - val_root_mean_squared_error: 85.1878\n",
            "Epoch 67/70\n",
            "153/153 [==============================] - 3s 17ms/step - loss: 6986.8267 - root_mean_squared_error: 83.5872 - val_loss: 7253.6631 - val_root_mean_squared_error: 85.1684\n",
            "Epoch 68/70\n",
            "153/153 [==============================] - 2s 14ms/step - loss: 6988.5371 - root_mean_squared_error: 83.5975 - val_loss: 7256.0522 - val_root_mean_squared_error: 85.1825\n",
            "Epoch 69/70\n",
            "153/153 [==============================] - 1s 9ms/step - loss: 6987.8940 - root_mean_squared_error: 83.5936 - val_loss: 7253.6528 - val_root_mean_squared_error: 85.1684\n",
            "Epoch 70/70\n",
            "153/153 [==============================] - 2s 11ms/step - loss: 6986.0327 - root_mean_squared_error: 83.5825 - val_loss: 7256.7808 - val_root_mean_squared_error: 85.1867\n",
            "69.02365112304688\n"
          ]
        },
        {
          "data": {
            "image/png": "[encoded data removed]",
            "text/plain": [
              "<Figure size 432x288 with 1 Axes>"
            ]
          },
          "metadata": {},
          "output_type": "display_data"
        }
      ],
      "source": [
        "#@title Double-click to view the complete implementation.\n",
        "\n",
        "# The following variables are the hyperparameters.\n",
        "learning_rate = 0.08\n",
        "epochs = 70\n",
        "batch_size = 100\n",
        "\n",
        "# Split the original training set into a reduced training set and a\n",
        "# validation set. \n",
        "validation_split=0.1\n",
        "\n",
        "# Identify the feature and the label.\n",
        "my_feature=\"median_income\"  # the median income on a specific city block.\n",
        "my_label=\"median_house_value\" # the median value of a house on a specific city block.\n",
        "# That is, you're going to create a model that predicts house value based \n",
        "# solely on the neighborhood's median income.  \n",
        "\n",
        "# Discard any pre-existing version of the model.\n",
        "my_model = None\n",
        "\n",
        "# Shuffle the examples.\n",
        "shuffled_train_df = train_df.reindex(np.random.permutation(train_df.index)) \n",
        "\n",
        "# Invoke the functions to build and train the model. Train on the shuffled\n",
        "# training set.\n",
        "my_model = build_model(learning_rate)\n",
        "epochs, rmse, history = train_model(my_model, shuffled_train_df, my_feature, \n",
        "                                    my_label, epochs, batch_size, \n",
        "                                    validation_split)\n",
        "\n",
        "plot_the_loss_curve(epochs, history[\"root_mean_squared_error\"], \n",
        "                    history[\"val_root_mean_squared_error\"])"
      ]
    },
    {
      "cell_type": "markdown",
      "metadata": {
        "colab_type": "text",
        "id": "tKN239_miW8C"
      },
      "source": [
        "Experiment with `validation_split` to answer the following questions:\n",
        "\n",
        "* With the training set shuffled, is the final loss for the training set closer to the final loss for the validation set?  \n",
        "* At what range of values of `validation_split` do the final loss values for the training set and validation set diverge meaningfully?  Why?"
      ]
    },
    {
      "cell_type": "code",
      "execution_count": null,
      "metadata": {
        "cellView": "form",
        "colab": {},
        "colab_type": "code",
        "id": "-UAJ3Q86iz31"
      },
      "outputs": [],
      "source": [
        "#@title Double-click for the answers to the questions\n",
        "\n",
        "# Yes, after shuffling the original training set, \n",
        "# the final loss for the training set and the \n",
        "# validation set become much closer.\n",
        "\n",
        "# If validation_split < 0.15,\n",
        "# the final loss values for the training set and\n",
        "# validation set diverge meaningfully.  Apparently,\n",
        "# the validation set no longer contains enough examples. "
      ]
    },
    {
      "cell_type": "markdown",
      "metadata": {
        "colab_type": "text",
        "id": "1PP-O8TOZOeo"
      },
      "source": [
        "## Task 4: Use the Test Dataset to Evaluate Your Model's Performance\n",
        "\n",
        "The test set usually acts as the ultimate judge of a model's quality. The test set can serve as an impartial judge because its examples haven't been used in training the model. Run the following code cell to evaluate the model with the test set:"
      ]
    },
    {
      "cell_type": "code",
      "execution_count": 25,
      "metadata": {
        "colab": {},
        "colab_type": "code",
        "id": "nd_Sw2cygOip"
      },
      "outputs": [
        {
          "name": "stdout",
          "output_type": "stream",
          "text": [
            "30/30 [==============================] - 0s 3ms/step - loss: 7009.1118 - root_mean_squared_error: 83.7204\n"
          ]
        }
      ],
      "source": [
        "x_test = test_df[my_feature]\n",
        "y_test = test_df[my_label]\n",
        "\n",
        "results = my_model.evaluate(x_test, y_test, batch_size=batch_size)"
      ]
    },
    {
      "cell_type": "markdown",
      "metadata": {
        "colab_type": "text",
        "id": "qoyQKvsjmV_A"
      },
      "source": [
        "Compare the root mean squared error of the model when evaluated on each of the three datasets:\n",
        "\n",
        "* training set: look for `root_mean_squared_error` in the final training epoch.\n",
        "* validation set: look for `val_root_mean_squared_error` in the final training epoch.\n",
        "* test set: run the preceding code cell and examine the `root_mean_squred_error`.\n",
        "\n",
        "Ideally, the root mean squared error of all three sets should be similar. Are they?"
      ]
    },
    {
      "cell_type": "code",
      "execution_count": null,
      "metadata": {
        "cellView": "form",
        "colab": {},
        "colab_type": "code",
        "id": "FxXtp-aVdIgJ"
      },
      "outputs": [],
      "source": [
        "#@title Double-click for an answer\n",
        "\n",
        "# In our experiments, yes, the rmse values \n",
        "# were similar enough. "
      ]
    }
  ],
  "metadata": {
    "colab": {
      "collapsed_sections": [],
      "name": "Validation and Test Sets.ipynb",
      "private_outputs": true,
      "provenance": []
    },
    "kernelspec": {
      "display_name": "Python 3",
      "name": "python3"
    },
    "language_info": {
      "codemirror_mode": {
        "name": "ipython",
        "version": 3
      },
      "file_extension": ".py",
      "mimetype": "text/x-python",
      "name": "python",
      "nbconvert_exporter": "python",
      "pygments_lexer": "ipython3",
      "version": "3.9.5"
    }
  },
  "nbformat": 4,
  "nbformat_minor": 0
}
